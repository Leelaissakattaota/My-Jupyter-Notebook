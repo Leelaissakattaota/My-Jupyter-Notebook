{
 "cells": [
  {
   "cell_type": "markdown",
   "id": "81738999-bf06-46c9-9d3a-a9116d426805",
   "metadata": {},
   "source": [
    "# **My Jupyter Notebook in Watson Studio**"
   ]
  },
  {
   "cell_type": "markdown",
   "id": "2117f676-32c3-45f4-bbf7-fd72f95a3656",
   "metadata": {},
   "source": [
    "**leelaissak**"
   ]
  },
  {
   "cell_type": "markdown",
   "id": "a014f828-54bd-494f-a866-73fab72cf298",
   "metadata": {},
   "source": [
    "I am interested in Data Science Because it gives the Hidden secrets from the Data"
   ]
  },
  {
   "cell_type": "markdown",
   "id": "72c53667-83ff-4dd7-b894-6a60a1d2b7a6",
   "metadata": {},
   "source": [
    "**The following code test in Add two Numbers**"
   ]
  },
  {
   "cell_type": "code",
   "execution_count": 5,
   "id": "c4f7ae46-5c54-40e9-a6b4-8fdf6f425b67",
   "metadata": {},
   "outputs": [
    {
     "name": "stdout",
     "output_type": "stream",
     "text": [
      "11\n"
     ]
    }
   ],
   "source": [
    "num1= 3\n",
    "num2= 8\n",
    "result=num1+num2\n",
    "print(result)"
   ]
  },
  {
   "cell_type": "markdown",
   "id": "411ae7aa-0067-4cdd-a12d-7f08791fed2b",
   "metadata": {},
   "source": [
    "* I Just *Take two Random Numbers*"
   ]
  },
  {
   "cell_type": "markdown",
   "id": "601a4122-58d1-45a5-ac00-0d2d3225a0e4",
   "metadata": {},
   "source": [
    "* I would Like to Present the Mathematical Formula"
   ]
  },
  {
   "cell_type": "markdown",
   "id": "de40218b-d960-4468-96ff-aad1ce9a9b75",
   "metadata": {},
   "source": [
    "* it is easy to understand"
   ]
  },
  {
   "cell_type": "markdown",
   "id": "f537cb47-ce63-4858-9200-753dd307e28c",
   "metadata": {},
   "source": [
    "3 $+$ 8 $=$ 11"
   ]
  },
  {
   "cell_type": "markdown",
   "id": "b5f0c433-2b5e-4af0-a46f-057604a3d2e4",
   "metadata": {},
   "source": [
    "Use this Link to Login IBM Website [Welcome to IBM](https://www.ibm.com/in-en)"
   ]
  },
  {
   "cell_type": "markdown",
   "id": "a577be55-8ac2-42ef-81bb-ba0aff1dc6af",
   "metadata": {},
   "source": [
    "**Table**"
   ]
  },
  {
   "cell_type": "markdown",
   "id": "6918887f-414a-446f-8608-57d376e95a48",
   "metadata": {},
   "source": [
    "Markdown | Less | Pretty\n",
    "--- | --- | ---\n",
    "*Still* | `renders` | **nicely**\n",
    "1 | 2 | 3"
   ]
  },
  {
   "cell_type": "markdown",
   "id": "895d6f37-986e-4866-88ce-7c6d830f4a6a",
   "metadata": {},
   "source": [
    "|name|apple|Day|\n",
    "|----|-----|---|\n",
    "|s|2|4|\n",
    "|R|8|6|\n",
    "|b|6|6|"
   ]
  },
  {
   "cell_type": "code",
   "execution_count": null,
   "id": "eeb8cdef-d9fe-4039-afa2-a042852e6691",
   "metadata": {},
   "outputs": [],
   "source": []
  }
 ],
 "metadata": {
  "kernelspec": {
   "display_name": "Python",
   "language": "python",
   "name": "conda-env-python-py"
  },
  "language_info": {
   "codemirror_mode": {
    "name": "ipython",
    "version": 3
   },
   "file_extension": ".py",
   "mimetype": "text/x-python",
   "name": "python",
   "nbconvert_exporter": "python",
   "pygments_lexer": "ipython3",
   "version": "3.7.12"
  }
 },
 "nbformat": 4,
 "nbformat_minor": 5
}
